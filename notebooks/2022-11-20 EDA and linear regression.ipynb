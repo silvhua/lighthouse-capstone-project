{
 "cells": [
  {
   "cell_type": "markdown",
   "metadata": {},
   "source": [
    "# Imports"
   ]
  },
  {
   "cell_type": "code",
   "execution_count": 3,
   "metadata": {},
   "outputs": [],
   "source": [
    "import pandas as pd\n",
    "import sys\n",
    "sys.path.append(r\"C:\\Users\\silvh\\OneDrive\\lighthouse\\custom_python\")\n",
    "from silvhua import *\n",
    "import seaborn as sns\n",
    "import matplotlib.pyplot as plt"
   ]
  },
  {
   "cell_type": "markdown",
   "metadata": {},
   "source": [
    "# load data"
   ]
  },
  {
   "cell_type": "code",
   "execution_count": 4,
   "metadata": {},
   "outputs": [
    {
     "name": "stdout",
     "output_type": "stream",
     "text": [
      "(52, 15)\n"
     ]
    },
    {
     "data": {
      "text/html": [
       "<div>\n",
       "<style scoped>\n",
       "    .dataframe tbody tr th:only-of-type {\n",
       "        vertical-align: middle;\n",
       "    }\n",
       "\n",
       "    .dataframe tbody tr th {\n",
       "        vertical-align: top;\n",
       "    }\n",
       "\n",
       "    .dataframe thead th {\n",
       "        text-align: right;\n",
       "    }\n",
       "</style>\n",
       "<table border=\"1\" class=\"dataframe\">\n",
       "  <thead>\n",
       "    <tr style=\"text-align: right;\">\n",
       "      <th></th>\n",
       "      <th>Age</th>\n",
       "      <th>Mass</th>\n",
       "      <th>Height</th>\n",
       "      <th>Load20%1RM</th>\n",
       "      <th>Load40%1RM</th>\n",
       "      <th>Load60%1RM</th>\n",
       "      <th>Load80%1RM</th>\n",
       "      <th>Load90%1RM</th>\n",
       "      <th>Load-1RM-1</th>\n",
       "      <th>20% MV</th>\n",
       "      <th>40%MV</th>\n",
       "      <th>60%MV</th>\n",
       "      <th>80%MV</th>\n",
       "      <th>90%MV</th>\n",
       "      <th>100%MV</th>\n",
       "    </tr>\n",
       "  </thead>\n",
       "  <tbody>\n",
       "    <tr>\n",
       "      <th>0</th>\n",
       "      <td>22</td>\n",
       "      <td>77.8</td>\n",
       "      <td>175.0</td>\n",
       "      <td>39.0</td>\n",
       "      <td>78</td>\n",
       "      <td>114.0</td>\n",
       "      <td>156.0</td>\n",
       "      <td>175.0</td>\n",
       "      <td>190.0</td>\n",
       "      <td>1.05</td>\n",
       "      <td>0.91</td>\n",
       "      <td>0.76</td>\n",
       "      <td>0.52</td>\n",
       "      <td>0.39</td>\n",
       "      <td>0.26</td>\n",
       "    </tr>\n",
       "    <tr>\n",
       "      <th>1</th>\n",
       "      <td>21</td>\n",
       "      <td>71.6</td>\n",
       "      <td>179.0</td>\n",
       "      <td>24.0</td>\n",
       "      <td>48</td>\n",
       "      <td>72.0</td>\n",
       "      <td>96.0</td>\n",
       "      <td>108.0</td>\n",
       "      <td>120.0</td>\n",
       "      <td>1.03</td>\n",
       "      <td>0.91</td>\n",
       "      <td>0.68</td>\n",
       "      <td>0.49</td>\n",
       "      <td>0.39</td>\n",
       "      <td>0.27</td>\n",
       "    </tr>\n",
       "    <tr>\n",
       "      <th>2</th>\n",
       "      <td>19</td>\n",
       "      <td>60.8</td>\n",
       "      <td>165.0</td>\n",
       "      <td>26.0</td>\n",
       "      <td>52</td>\n",
       "      <td>78.0</td>\n",
       "      <td>104.0</td>\n",
       "      <td>117.0</td>\n",
       "      <td>130.0</td>\n",
       "      <td>1.06</td>\n",
       "      <td>0.92</td>\n",
       "      <td>0.76</td>\n",
       "      <td>0.51</td>\n",
       "      <td>0.37</td>\n",
       "      <td>0.26</td>\n",
       "    </tr>\n",
       "    <tr>\n",
       "      <th>3</th>\n",
       "      <td>21</td>\n",
       "      <td>58.4</td>\n",
       "      <td>172.0</td>\n",
       "      <td>20.0</td>\n",
       "      <td>40</td>\n",
       "      <td>60.0</td>\n",
       "      <td>80.0</td>\n",
       "      <td>90.0</td>\n",
       "      <td>100.0</td>\n",
       "      <td>0.97</td>\n",
       "      <td>0.85</td>\n",
       "      <td>0.68</td>\n",
       "      <td>0.50</td>\n",
       "      <td>0.38</td>\n",
       "      <td>0.26</td>\n",
       "    </tr>\n",
       "    <tr>\n",
       "      <th>4</th>\n",
       "      <td>20</td>\n",
       "      <td>82.3</td>\n",
       "      <td>185.0</td>\n",
       "      <td>30.0</td>\n",
       "      <td>60</td>\n",
       "      <td>90.0</td>\n",
       "      <td>120.0</td>\n",
       "      <td>135.0</td>\n",
       "      <td>150.0</td>\n",
       "      <td>1.02</td>\n",
       "      <td>0.92</td>\n",
       "      <td>0.76</td>\n",
       "      <td>0.50</td>\n",
       "      <td>0.40</td>\n",
       "      <td>0.29</td>\n",
       "    </tr>\n",
       "  </tbody>\n",
       "</table>\n",
       "</div>"
      ],
      "text/plain": [
       "   Age  Mass  Height  Load20%1RM  Load40%1RM  Load60%1RM  Load80%1RM  \\\n",
       "0   22  77.8   175.0        39.0          78       114.0       156.0   \n",
       "1   21  71.6   179.0        24.0          48        72.0        96.0   \n",
       "2   19  60.8   165.0        26.0          52        78.0       104.0   \n",
       "3   21  58.4   172.0        20.0          40        60.0        80.0   \n",
       "4   20  82.3   185.0        30.0          60        90.0       120.0   \n",
       "\n",
       "   Load90%1RM  Load-1RM-1  20% MV  40%MV  60%MV  80%MV  90%MV  100%MV  \n",
       "0       175.0       190.0    1.05   0.91   0.76   0.52   0.39    0.26  \n",
       "1       108.0       120.0    1.03   0.91   0.68   0.49   0.39    0.27  \n",
       "2       117.0       130.0    1.06   0.92   0.76   0.51   0.37    0.26  \n",
       "3        90.0       100.0    0.97   0.85   0.68   0.50   0.38    0.26  \n",
       "4       135.0       150.0    1.02   0.92   0.76   0.50   0.40    0.29  "
      ]
     },
     "execution_count": 4,
     "metadata": {},
     "output_type": "execute_result"
    }
   ],
   "source": [
    "path = r'C:\\Users\\silvh\\OneDrive\\lighthouse\\projects\\lighthouse-capstone-project\\data'\n",
    "df_fw = load_csv('data_freeweight.csv',path, column1_as_index=False)\n",
    "print(df_fw.shape)\n",
    "df_fw.head()"
   ]
  },
  {
   "cell_type": "code",
   "execution_count": 5,
   "metadata": {},
   "outputs": [
    {
     "data": {
      "text/plain": [
       "Index(['Age', 'Mass', 'Height', 'Load20%1RM', 'Load40%1RM', 'Load60%1RM',\n",
       "       'Load80%1RM', 'Load90%1RM', 'Load-1RM-1', '20% MV', '40%MV', '60%MV',\n",
       "       '80%MV', '90%MV', '100%MV'],\n",
       "      dtype='object')"
      ]
     },
     "execution_count": 5,
     "metadata": {},
     "output_type": "execute_result"
    }
   ],
   "source": [
    "df_fw.columns"
   ]
  },
  {
   "cell_type": "code",
   "execution_count": 6,
   "metadata": {},
   "outputs": [
    {
     "data": {
      "text/plain": [
       "['20% MV',\n",
       " '40%MV',\n",
       " '60%MV',\n",
       " '80%MV',\n",
       " '90%MV',\n",
       " '100%MV',\n",
       " 'Load20%1RM',\n",
       " 'Load40%1RM',\n",
       " 'Load60%1RM',\n",
       " 'Load80%1RM',\n",
       " 'Load90%1RM',\n",
       " 'Load-1RM-1']"
      ]
     },
     "execution_count": 6,
     "metadata": {},
     "output_type": "execute_result"
    }
   ],
   "source": [
    "velocity_columns = df_fw.columns[df_fw.columns.str.contains('MV')].to_list()\n",
    "load_columns = df_fw.columns[df_fw.columns.str.contains('Load')].to_list()\n",
    "velocity_columns+load_columns"
   ]
  },
  {
   "cell_type": "markdown",
   "metadata": {},
   "source": [
    "# EDA"
   ]
  },
  {
   "cell_type": "markdown",
   "metadata": {},
   "source": [
    "## Reshape data frame"
   ]
  },
  {
   "cell_type": "markdown",
   "metadata": {},
   "source": [
    "### Experiment with commands"
   ]
  },
  {
   "cell_type": "code",
   "execution_count": 7,
   "metadata": {},
   "outputs": [
    {
     "data": {
      "text/html": [
       "<div>\n",
       "<style scoped>\n",
       "    .dataframe tbody tr th:only-of-type {\n",
       "        vertical-align: middle;\n",
       "    }\n",
       "\n",
       "    .dataframe tbody tr th {\n",
       "        vertical-align: top;\n",
       "    }\n",
       "\n",
       "    .dataframe thead th {\n",
       "        text-align: right;\n",
       "    }\n",
       "</style>\n",
       "<table border=\"1\" class=\"dataframe\">\n",
       "  <thead>\n",
       "    <tr style=\"text-align: right;\">\n",
       "      <th></th>\n",
       "      <th>20% MV</th>\n",
       "      <th>40%MV</th>\n",
       "      <th>60%MV</th>\n",
       "      <th>80%MV</th>\n",
       "      <th>90%MV</th>\n",
       "      <th>100%MV</th>\n",
       "      <th>Load20%1RM</th>\n",
       "      <th>Load40%1RM</th>\n",
       "      <th>Load60%1RM</th>\n",
       "      <th>Load80%1RM</th>\n",
       "      <th>Load90%1RM</th>\n",
       "      <th>Load-1RM-1</th>\n",
       "    </tr>\n",
       "  </thead>\n",
       "  <tbody>\n",
       "    <tr>\n",
       "      <th>0</th>\n",
       "      <td>1.05</td>\n",
       "      <td>0.91</td>\n",
       "      <td>0.76</td>\n",
       "      <td>0.52</td>\n",
       "      <td>0.39</td>\n",
       "      <td>0.26</td>\n",
       "      <td>39.0</td>\n",
       "      <td>78</td>\n",
       "      <td>114.0</td>\n",
       "      <td>156.0</td>\n",
       "      <td>175.0</td>\n",
       "      <td>190.0</td>\n",
       "    </tr>\n",
       "    <tr>\n",
       "      <th>1</th>\n",
       "      <td>1.03</td>\n",
       "      <td>0.91</td>\n",
       "      <td>0.68</td>\n",
       "      <td>0.49</td>\n",
       "      <td>0.39</td>\n",
       "      <td>0.27</td>\n",
       "      <td>24.0</td>\n",
       "      <td>48</td>\n",
       "      <td>72.0</td>\n",
       "      <td>96.0</td>\n",
       "      <td>108.0</td>\n",
       "      <td>120.0</td>\n",
       "    </tr>\n",
       "  </tbody>\n",
       "</table>\n",
       "</div>"
      ],
      "text/plain": [
       "   20% MV  40%MV  60%MV  80%MV  90%MV  100%MV  Load20%1RM  Load40%1RM  \\\n",
       "0    1.05   0.91   0.76   0.52   0.39    0.26        39.0          78   \n",
       "1    1.03   0.91   0.68   0.49   0.39    0.27        24.0          48   \n",
       "\n",
       "   Load60%1RM  Load80%1RM  Load90%1RM  Load-1RM-1  \n",
       "0       114.0       156.0       175.0       190.0  \n",
       "1        72.0        96.0       108.0       120.0  "
      ]
     },
     "execution_count": 7,
     "metadata": {},
     "output_type": "execute_result"
    }
   ],
   "source": [
    "test = df_fw.loc[:1,velocity_columns+load_columns]\n",
    "test"
   ]
  },
  {
   "cell_type": "code",
   "execution_count": 8,
   "metadata": {},
   "outputs": [
    {
     "data": {
      "text/html": [
       "<div>\n",
       "<style scoped>\n",
       "    .dataframe tbody tr th:only-of-type {\n",
       "        vertical-align: middle;\n",
       "    }\n",
       "\n",
       "    .dataframe tbody tr th {\n",
       "        vertical-align: top;\n",
       "    }\n",
       "\n",
       "    .dataframe thead th {\n",
       "        text-align: right;\n",
       "    }\n",
       "</style>\n",
       "<table border=\"1\" class=\"dataframe\">\n",
       "  <thead>\n",
       "    <tr style=\"text-align: right;\">\n",
       "      <th></th>\n",
       "      <th>Load-1RM-1</th>\n",
       "      <th>%1RM</th>\n",
       "      <th>velocity</th>\n",
       "      <th>%1RM</th>\n",
       "      <th>absolute load</th>\n",
       "    </tr>\n",
       "  </thead>\n",
       "  <tbody>\n",
       "    <tr>\n",
       "      <th>0</th>\n",
       "      <td>190.0</td>\n",
       "      <td>20% MV</td>\n",
       "      <td>1.05</td>\n",
       "      <td>Load20%1RM</td>\n",
       "      <td>39.0</td>\n",
       "    </tr>\n",
       "    <tr>\n",
       "      <th>1</th>\n",
       "      <td>120.0</td>\n",
       "      <td>20% MV</td>\n",
       "      <td>1.03</td>\n",
       "      <td>Load20%1RM</td>\n",
       "      <td>24.0</td>\n",
       "    </tr>\n",
       "    <tr>\n",
       "      <th>0</th>\n",
       "      <td>190.0</td>\n",
       "      <td>40%MV</td>\n",
       "      <td>0.91</td>\n",
       "      <td>Load40%1RM</td>\n",
       "      <td>78.0</td>\n",
       "    </tr>\n",
       "    <tr>\n",
       "      <th>1</th>\n",
       "      <td>120.0</td>\n",
       "      <td>40%MV</td>\n",
       "      <td>0.91</td>\n",
       "      <td>Load40%1RM</td>\n",
       "      <td>48.0</td>\n",
       "    </tr>\n",
       "    <tr>\n",
       "      <th>0</th>\n",
       "      <td>190.0</td>\n",
       "      <td>60%MV</td>\n",
       "      <td>0.76</td>\n",
       "      <td>Load60%1RM</td>\n",
       "      <td>114.0</td>\n",
       "    </tr>\n",
       "    <tr>\n",
       "      <th>1</th>\n",
       "      <td>120.0</td>\n",
       "      <td>60%MV</td>\n",
       "      <td>0.68</td>\n",
       "      <td>Load60%1RM</td>\n",
       "      <td>72.0</td>\n",
       "    </tr>\n",
       "    <tr>\n",
       "      <th>0</th>\n",
       "      <td>190.0</td>\n",
       "      <td>80%MV</td>\n",
       "      <td>0.52</td>\n",
       "      <td>Load80%1RM</td>\n",
       "      <td>156.0</td>\n",
       "    </tr>\n",
       "    <tr>\n",
       "      <th>1</th>\n",
       "      <td>120.0</td>\n",
       "      <td>80%MV</td>\n",
       "      <td>0.49</td>\n",
       "      <td>Load80%1RM</td>\n",
       "      <td>96.0</td>\n",
       "    </tr>\n",
       "    <tr>\n",
       "      <th>0</th>\n",
       "      <td>190.0</td>\n",
       "      <td>90%MV</td>\n",
       "      <td>0.39</td>\n",
       "      <td>Load90%1RM</td>\n",
       "      <td>175.0</td>\n",
       "    </tr>\n",
       "    <tr>\n",
       "      <th>1</th>\n",
       "      <td>120.0</td>\n",
       "      <td>90%MV</td>\n",
       "      <td>0.39</td>\n",
       "      <td>Load90%1RM</td>\n",
       "      <td>108.0</td>\n",
       "    </tr>\n",
       "    <tr>\n",
       "      <th>0</th>\n",
       "      <td>190.0</td>\n",
       "      <td>100%MV</td>\n",
       "      <td>0.26</td>\n",
       "      <td>Load-1RM-1</td>\n",
       "      <td>190.0</td>\n",
       "    </tr>\n",
       "    <tr>\n",
       "      <th>1</th>\n",
       "      <td>120.0</td>\n",
       "      <td>100%MV</td>\n",
       "      <td>0.27</td>\n",
       "      <td>Load-1RM-1</td>\n",
       "      <td>120.0</td>\n",
       "    </tr>\n",
       "  </tbody>\n",
       "</table>\n",
       "</div>"
      ],
      "text/plain": [
       "   Load-1RM-1    %1RM  velocity        %1RM  absolute load\n",
       "0       190.0  20% MV      1.05  Load20%1RM           39.0\n",
       "1       120.0  20% MV      1.03  Load20%1RM           24.0\n",
       "0       190.0   40%MV      0.91  Load40%1RM           78.0\n",
       "1       120.0   40%MV      0.91  Load40%1RM           48.0\n",
       "0       190.0   60%MV      0.76  Load60%1RM          114.0\n",
       "1       120.0   60%MV      0.68  Load60%1RM           72.0\n",
       "0       190.0   80%MV      0.52  Load80%1RM          156.0\n",
       "1       120.0   80%MV      0.49  Load80%1RM           96.0\n",
       "0       190.0   90%MV      0.39  Load90%1RM          175.0\n",
       "1       120.0   90%MV      0.39  Load90%1RM          108.0\n",
       "0       190.0  100%MV      0.26  Load-1RM-1          190.0\n",
       "1       120.0  100%MV      0.27  Load-1RM-1          120.0"
      ]
     },
     "execution_count": 8,
     "metadata": {},
     "output_type": "execute_result"
    }
   ],
   "source": [
    "# test = test.melt(\n",
    "#     id_vars='Load-1RM-1',\n",
    "#     value_vars=velocity_columns, var_name='%1RM', value_name='velocity',\n",
    "#     ignore_index=False\n",
    "#     )\n",
    "test = pd.concat([\n",
    "    test.melt(\n",
    "        id_vars='Load-1RM-1',\n",
    "        value_vars=velocity_columns, var_name='%1RM', value_name='velocity',\n",
    "        ignore_index=False\n",
    "    ),\n",
    "    test.melt(\n",
    "        # id_vars='Load-1RM-1',\n",
    "        value_vars=load_columns, var_name='%1RM', value_name='absolute load',\n",
    "        ignore_index=False\n",
    "    )\n",
    "], axis=1)\n",
    "test"
   ]
  },
  {
   "cell_type": "code",
   "execution_count": 9,
   "metadata": {},
   "outputs": [
    {
     "data": {
      "text/html": [
       "<div>\n",
       "<style scoped>\n",
       "    .dataframe tbody tr th:only-of-type {\n",
       "        vertical-align: middle;\n",
       "    }\n",
       "\n",
       "    .dataframe tbody tr th {\n",
       "        vertical-align: top;\n",
       "    }\n",
       "\n",
       "    .dataframe thead th {\n",
       "        text-align: right;\n",
       "    }\n",
       "</style>\n",
       "<table border=\"1\" class=\"dataframe\">\n",
       "  <thead>\n",
       "    <tr style=\"text-align: right;\">\n",
       "      <th></th>\n",
       "      <th>Age</th>\n",
       "      <th>Mass</th>\n",
       "      <th>Height</th>\n",
       "      <th>Load20%1RM</th>\n",
       "      <th>Load40%1RM</th>\n",
       "      <th>Load60%1RM</th>\n",
       "      <th>Load80%1RM</th>\n",
       "      <th>Load90%1RM</th>\n",
       "      <th>Load-1RM-1</th>\n",
       "      <th>20% MV</th>\n",
       "      <th>40%MV</th>\n",
       "      <th>60%MV</th>\n",
       "      <th>80%MV</th>\n",
       "      <th>90%MV</th>\n",
       "      <th>100%MV</th>\n",
       "    </tr>\n",
       "  </thead>\n",
       "  <tbody>\n",
       "    <tr>\n",
       "      <th>0</th>\n",
       "      <td>21</td>\n",
       "      <td>58.4</td>\n",
       "      <td>172.0</td>\n",
       "      <td>20.0</td>\n",
       "      <td>40</td>\n",
       "      <td>60.0</td>\n",
       "      <td>80.0</td>\n",
       "      <td>90.0</td>\n",
       "      <td>100.0</td>\n",
       "      <td>0.97</td>\n",
       "      <td>0.85</td>\n",
       "      <td>0.68</td>\n",
       "      <td>0.50</td>\n",
       "      <td>0.38</td>\n",
       "      <td>0.26</td>\n",
       "    </tr>\n",
       "    <tr>\n",
       "      <th>1</th>\n",
       "      <td>21</td>\n",
       "      <td>71.6</td>\n",
       "      <td>179.0</td>\n",
       "      <td>24.0</td>\n",
       "      <td>48</td>\n",
       "      <td>72.0</td>\n",
       "      <td>96.0</td>\n",
       "      <td>108.0</td>\n",
       "      <td>120.0</td>\n",
       "      <td>1.03</td>\n",
       "      <td>0.91</td>\n",
       "      <td>0.68</td>\n",
       "      <td>0.49</td>\n",
       "      <td>0.39</td>\n",
       "      <td>0.27</td>\n",
       "    </tr>\n",
       "    <tr>\n",
       "      <th>2</th>\n",
       "      <td>19</td>\n",
       "      <td>60.8</td>\n",
       "      <td>165.0</td>\n",
       "      <td>26.0</td>\n",
       "      <td>52</td>\n",
       "      <td>78.0</td>\n",
       "      <td>104.0</td>\n",
       "      <td>117.0</td>\n",
       "      <td>130.0</td>\n",
       "      <td>1.06</td>\n",
       "      <td>0.92</td>\n",
       "      <td>0.76</td>\n",
       "      <td>0.51</td>\n",
       "      <td>0.37</td>\n",
       "      <td>0.26</td>\n",
       "    </tr>\n",
       "    <tr>\n",
       "      <th>3</th>\n",
       "      <td>22</td>\n",
       "      <td>77.8</td>\n",
       "      <td>175.0</td>\n",
       "      <td>39.0</td>\n",
       "      <td>78</td>\n",
       "      <td>114.0</td>\n",
       "      <td>156.0</td>\n",
       "      <td>175.0</td>\n",
       "      <td>190.0</td>\n",
       "      <td>1.05</td>\n",
       "      <td>0.91</td>\n",
       "      <td>0.76</td>\n",
       "      <td>0.52</td>\n",
       "      <td>0.39</td>\n",
       "      <td>0.26</td>\n",
       "    </tr>\n",
       "  </tbody>\n",
       "</table>\n",
       "</div>"
      ],
      "text/plain": [
       "   Age  Mass  Height  Load20%1RM  Load40%1RM  Load60%1RM  Load80%1RM  \\\n",
       "0   21  58.4   172.0        20.0          40        60.0        80.0   \n",
       "1   21  71.6   179.0        24.0          48        72.0        96.0   \n",
       "2   19  60.8   165.0        26.0          52        78.0       104.0   \n",
       "3   22  77.8   175.0        39.0          78       114.0       156.0   \n",
       "\n",
       "   Load90%1RM  Load-1RM-1  20% MV  40%MV  60%MV  80%MV  90%MV  100%MV  \n",
       "0        90.0       100.0    0.97   0.85   0.68   0.50   0.38    0.26  \n",
       "1       108.0       120.0    1.03   0.91   0.68   0.49   0.39    0.27  \n",
       "2       117.0       130.0    1.06   0.92   0.76   0.51   0.37    0.26  \n",
       "3       175.0       190.0    1.05   0.91   0.76   0.52   0.39    0.26  "
      ]
     },
     "execution_count": 9,
     "metadata": {},
     "output_type": "execute_result"
    }
   ],
   "source": [
    "df_fw.head(4).sort_values('Load-1RM-1').reset_index(drop=True)"
   ]
  },
  {
   "cell_type": "markdown",
   "metadata": {},
   "source": [
    "### Create function"
   ]
  },
  {
   "cell_type": "code",
   "execution_count": 10,
   "metadata": {},
   "outputs": [
    {
     "name": "stdout",
     "output_type": "stream",
     "text": [
      "   Load20%1RM  Load40%1RM  Load60%1RM  Load80%1RM  Load90%1RM  Load-1RM-1  \\\n",
      "0        39.0          78       114.0       156.0       175.0       190.0   \n",
      "\n",
      "   20% MV  40%MV  60%MV  80%MV  90%MV  100%MV  \n",
      "0    1.05   0.91   0.76   0.52   0.39    0.26  \n"
     ]
    },
    {
     "data": {
      "text/html": [
       "<div>\n",
       "<style scoped>\n",
       "    .dataframe tbody tr th:only-of-type {\n",
       "        vertical-align: middle;\n",
       "    }\n",
       "\n",
       "    .dataframe tbody tr th {\n",
       "        vertical-align: top;\n",
       "    }\n",
       "\n",
       "    .dataframe thead th {\n",
       "        text-align: right;\n",
       "    }\n",
       "</style>\n",
       "<table border=\"1\" class=\"dataframe\">\n",
       "  <thead>\n",
       "    <tr style=\"text-align: right;\">\n",
       "      <th></th>\n",
       "      <th>participant</th>\n",
       "      <th>absolute load</th>\n",
       "      <th>1RM</th>\n",
       "      <th>%1RM</th>\n",
       "      <th>mean velocity</th>\n",
       "    </tr>\n",
       "  </thead>\n",
       "  <tbody>\n",
       "    <tr>\n",
       "      <th>0</th>\n",
       "      <td>0</td>\n",
       "      <td>39.0</td>\n",
       "      <td>190.0</td>\n",
       "      <td>20.0</td>\n",
       "      <td>1.05</td>\n",
       "    </tr>\n",
       "    <tr>\n",
       "      <th>1</th>\n",
       "      <td>0</td>\n",
       "      <td>78.0</td>\n",
       "      <td>190.0</td>\n",
       "      <td>40.0</td>\n",
       "      <td>0.91</td>\n",
       "    </tr>\n",
       "    <tr>\n",
       "      <th>2</th>\n",
       "      <td>0</td>\n",
       "      <td>114.0</td>\n",
       "      <td>190.0</td>\n",
       "      <td>60.0</td>\n",
       "      <td>0.76</td>\n",
       "    </tr>\n",
       "    <tr>\n",
       "      <th>3</th>\n",
       "      <td>0</td>\n",
       "      <td>156.0</td>\n",
       "      <td>190.0</td>\n",
       "      <td>80.0</td>\n",
       "      <td>0.52</td>\n",
       "    </tr>\n",
       "    <tr>\n",
       "      <th>4</th>\n",
       "      <td>0</td>\n",
       "      <td>175.0</td>\n",
       "      <td>190.0</td>\n",
       "      <td>90.0</td>\n",
       "      <td>0.39</td>\n",
       "    </tr>\n",
       "    <tr>\n",
       "      <th>5</th>\n",
       "      <td>0</td>\n",
       "      <td>190.0</td>\n",
       "      <td>190.0</td>\n",
       "      <td>100.0</td>\n",
       "      <td>0.26</td>\n",
       "    </tr>\n",
       "  </tbody>\n",
       "</table>\n",
       "</div>"
      ],
      "text/plain": [
       "   participant  absolute load    1RM   %1RM  mean velocity\n",
       "0            0           39.0  190.0   20.0           1.05\n",
       "1            0           78.0  190.0   40.0           0.91\n",
       "2            0          114.0  190.0   60.0           0.76\n",
       "3            0          156.0  190.0   80.0           0.52\n",
       "4            0          175.0  190.0   90.0           0.39\n",
       "5            0          190.0  190.0  100.0           0.26"
      ]
     },
     "execution_count": 10,
     "metadata": {},
     "output_type": "execute_result"
    }
   ],
   "source": [
    "# Create function\n",
    "def reshape_group_df(df):\n",
    "    \n",
    "    # Sort participants by strength\n",
    "    df = df.sort_values('Load-1RM-1').reset_index(drop=True)\n",
    "    \n",
    "    velocity_columns = df_fw.columns[df_fw.columns.str.contains('MV')]\n",
    "    df = pd.concat([\n",
    "        df.melt(\n",
    "            value_vars=load_columns, value_name='absolute load',\n",
    "            ignore_index=False\n",
    "        ),\n",
    "        df.melt(\n",
    "            id_vars='Load-1RM-1',\n",
    "            value_vars=velocity_columns, var_name='%1RM', value_name='mean velocity',\n",
    "            ignore_index=False\n",
    "            )\n",
    "    ], axis=1).drop(columns='variable')\n",
    "    df['%1RM'] = df['%1RM'].str.replace('(\\d*)\\D*','\\\\1', regex=True).astype(float)\n",
    "    df = df.rename({'Load-1RM-1':'1RM'}, axis=1)\n",
    "\n",
    "    df = df.reset_index(names='participant')\n",
    "    return df\n",
    "\n",
    "# Test the function on first participant's data\n",
    "print(df_fw.head(1).filter(regex='Load|MV'))\n",
    "reshape_group_df(df_fw.head(1))"
   ]
  },
  {
   "cell_type": "markdown",
   "metadata": {},
   "source": [
    "## Plot the data"
   ]
  },
  {
   "cell_type": "code",
   "execution_count": 11,
   "metadata": {},
   "outputs": [
    {
     "data": {
      "text/plain": [
       "<AxesSubplot: xlabel='absolute load', ylabel='mean velocity'>"
      ]
     },
     "execution_count": 11,
     "metadata": {},
     "output_type": "execute_result"
    },
    {
     "data": {
      "image/png": "[encoded data removed]",
      "text/plain": [
       "<Figure size 640x480 with 1 Axes>"
      ]
     },
     "metadata": {},
     "output_type": "display_data"
    }
   ],
   "source": [
    "# Size of marker represents %1RM\n",
    "sns.scatterplot(data=reshape_group_df(df_fw), x='absolute load', y='mean velocity',\n",
    "    hue='participant',\n",
    "    legend=False, size='%1RM'\n",
    ")"
   ]
  },
  {
   "cell_type": "code",
   "execution_count": 12,
   "metadata": {},
   "outputs": [
    {
     "data": {
      "text/plain": [
       "<AxesSubplot: xlabel='%1RM', ylabel='mean velocity'>"
      ]
     },
     "execution_count": 12,
     "metadata": {},
     "output_type": "execute_result"
    },
    {
     "data": {
      "image/png": "[encoded data removed]",
      "text/plain": [
       "<Figure size 640x480 with 1 Axes>"
      ]
     },
     "metadata": {},
     "output_type": "display_data"
    }
   ],
   "source": [
    "sns.stripplot(data=reshape_group_df(df_fw), x='%1RM', y='mean velocity',\n",
    "    alpha=0.7,\n",
    "    hue='participant',legend=False\n",
    ")"
   ]
  },
  {
   "cell_type": "code",
   "execution_count": 13,
   "metadata": {},
   "outputs": [
    {
     "data": {
      "text/plain": [
       "<AxesSubplot: xlabel='%1RM', ylabel='mean velocity'>"
      ]
     },
     "execution_count": 13,
     "metadata": {},
     "output_type": "execute_result"
    },
    {
     "data": {
      "image/png": "[encoded data removed]",
      "text/plain": [
       "<Figure size 640x480 with 1 Axes>"
      ]
     },
     "metadata": {},
     "output_type": "display_data"
    }
   ],
   "source": [
    "sns.boxplot(data=reshape_group_df(df_fw), x='%1RM', y='mean velocity')"
   ]
  },
  {
   "cell_type": "code",
   "execution_count": 14,
   "metadata": {},
   "outputs": [
    {
     "data": {
      "text/plain": [
       "<AxesSubplot: xlabel='%1RM', ylabel='absolute load'>"
      ]
     },
     "execution_count": 14,
     "metadata": {},
     "output_type": "execute_result"
    },
    {
     "data": {
      "image/png": "[encoded data removed]",
      "text/plain": [
       "<Figure size 640x480 with 1 Axes>"
      ]
     },
     "metadata": {},
     "output_type": "display_data"
    }
   ],
   "source": [
    "sns.stripplot(data=reshape_group_df(df_fw), x='%1RM', y='absolute load',\n",
    "    alpha=0.7,\n",
    "    hue='participant',legend=False\n",
    ")"
   ]
  },
  {
   "cell_type": "code",
   "execution_count": 15,
   "metadata": {},
   "outputs": [
    {
     "data": {
      "text/plain": [
       "<AxesSubplot: xlabel='%1RM', ylabel='absolute load'>"
      ]
     },
     "execution_count": 15,
     "metadata": {},
     "output_type": "execute_result"
    },
    {
     "data": {
      "image/png": "[encoded data removed]",
      "text/plain": [
       "<Figure size 640x480 with 1 Axes>"
      ]
     },
     "metadata": {},
     "output_type": "display_data"
    }
   ],
   "source": [
    "sns.boxplot(data=reshape_group_df(df_fw), x='%1RM', y='absolute load')"
   ]
  },
  {
   "cell_type": "code",
   "execution_count": 20,
   "metadata": {},
   "outputs": [
    {
     "data": {
      "text/html": [
       "<div>\n",
       "<style scoped>\n",
       "    .dataframe tbody tr th:only-of-type {\n",
       "        vertical-align: middle;\n",
       "    }\n",
       "\n",
       "    .dataframe tbody tr th {\n",
       "        vertical-align: top;\n",
       "    }\n",
       "\n",
       "    .dataframe thead th {\n",
       "        text-align: right;\n",
       "    }\n",
       "</style>\n",
       "<table border=\"1\" class=\"dataframe\">\n",
       "  <thead>\n",
       "    <tr style=\"text-align: right;\">\n",
       "      <th></th>\n",
       "      <th>Age</th>\n",
       "      <th>Mass</th>\n",
       "      <th>Height</th>\n",
       "      <th>Load20%1RM</th>\n",
       "      <th>Load40%1RM</th>\n",
       "      <th>Load60%1RM</th>\n",
       "      <th>Load80%1RM</th>\n",
       "      <th>Load90%1RM</th>\n",
       "      <th>Load-1RM-1</th>\n",
       "      <th>20% MV</th>\n",
       "      <th>40%MV</th>\n",
       "      <th>60%MV</th>\n",
       "      <th>80%MV</th>\n",
       "      <th>90%MV</th>\n",
       "      <th>100%MV</th>\n",
       "    </tr>\n",
       "  </thead>\n",
       "  <tbody>\n",
       "    <tr>\n",
       "      <th>0</th>\n",
       "      <td>22</td>\n",
       "      <td>77.8</td>\n",
       "      <td>175.0</td>\n",
       "      <td>39.0</td>\n",
       "      <td>78</td>\n",
       "      <td>114.0</td>\n",
       "      <td>156.0</td>\n",
       "      <td>175.0</td>\n",
       "      <td>190.0</td>\n",
       "      <td>1.05</td>\n",
       "      <td>0.91</td>\n",
       "      <td>0.76</td>\n",
       "      <td>0.52</td>\n",
       "      <td>0.39</td>\n",
       "      <td>0.26</td>\n",
       "    </tr>\n",
       "  </tbody>\n",
       "</table>\n",
       "</div>"
      ],
      "text/plain": [
       "   Age  Mass  Height  Load20%1RM  Load40%1RM  Load60%1RM  Load80%1RM  \\\n",
       "0   22  77.8   175.0        39.0          78       114.0       156.0   \n",
       "\n",
       "   Load90%1RM  Load-1RM-1  20% MV  40%MV  60%MV  80%MV  90%MV  100%MV  \n",
       "0       175.0       190.0    1.05   0.91   0.76   0.52   0.39    0.26  "
      ]
     },
     "execution_count": 20,
     "metadata": {},
     "output_type": "execute_result"
    }
   ],
   "source": [
    "participant0 = df_fw.head(1)\n",
    "participant0"
   ]
  },
  {
   "cell_type": "code",
   "execution_count": 160,
   "metadata": {},
   "outputs": [
    {
     "data": {
      "text/plain": [
       "<AxesSubplot: xlabel='%1RM', ylabel='mean velocity'>"
      ]
     },
     "execution_count": 160,
     "metadata": {},
     "output_type": "execute_result"
    },
    {
     "data": {
      "image/png": "[encoded data removed]",
      "text/plain": [
       "<Figure size 640x480 with 1 Axes>"
      ]
     },
     "metadata": {},
     "output_type": "display_data"
    }
   ],
   "source": [
    "# This represents models 1 and 2\n",
    "sns.scatterplot(data=reshape_group_df(participant0), x='%1RM', y='mean velocity',\n",
    "hue='participant')"
   ]
  },
  {
   "cell_type": "code",
   "execution_count": null,
   "metadata": {},
   "outputs": [],
   "source": []
  },
  {
   "cell_type": "code",
   "execution_count": null,
   "metadata": {},
   "outputs": [],
   "source": []
  },
  {
   "cell_type": "code",
   "execution_count": null,
   "metadata": {},
   "outputs": [],
   "source": []
  },
  {
   "cell_type": "code",
   "execution_count": null,
   "metadata": {},
   "outputs": [],
   "source": []
  },
  {
   "cell_type": "code",
   "execution_count": null,
   "metadata": {},
   "outputs": [],
   "source": []
  },
  {
   "cell_type": "code",
   "execution_count": null,
   "metadata": {},
   "outputs": [],
   "source": []
  },
  {
   "cell_type": "code",
   "execution_count": null,
   "metadata": {},
   "outputs": [],
   "source": []
  },
  {
   "cell_type": "code",
   "execution_count": null,
   "metadata": {},
   "outputs": [],
   "source": []
  },
  {
   "cell_type": "code",
   "execution_count": null,
   "metadata": {},
   "outputs": [],
   "source": []
  },
  {
   "cell_type": "code",
   "execution_count": null,
   "metadata": {},
   "outputs": [],
   "source": []
  },
  {
   "cell_type": "code",
   "execution_count": null,
   "metadata": {},
   "outputs": [],
   "source": []
  },
  {
   "cell_type": "code",
   "execution_count": null,
   "metadata": {},
   "outputs": [],
   "source": []
  },
  {
   "cell_type": "code",
   "execution_count": null,
   "metadata": {},
   "outputs": [],
   "source": []
  },
  {
   "cell_type": "code",
   "execution_count": null,
   "metadata": {},
   "outputs": [],
   "source": []
  },
  {
   "cell_type": "code",
   "execution_count": null,
   "metadata": {},
   "outputs": [],
   "source": []
  },
  {
   "cell_type": "code",
   "execution_count": null,
   "metadata": {},
   "outputs": [],
   "source": []
  },
  {
   "cell_type": "code",
   "execution_count": null,
   "metadata": {},
   "outputs": [],
   "source": []
  },
  {
   "cell_type": "markdown",
   "metadata": {},
   "source": [
    "# *End of Page*"
   ]
  }
 ],
 "metadata": {
  "kernelspec": {
   "display_name": "Python 3.9.13 ('cloudEnv')",
   "language": "python",
   "name": "python3"
  },
  "language_info": {
   "codemirror_mode": {
    "name": "ipython",
    "version": 3
   },
   "file_extension": ".py",
   "mimetype": "text/x-python",
   "name": "python",
   "nbconvert_exporter": "python",
   "pygments_lexer": "ipython3",
   "version": "3.9.13"
  },
  "orig_nbformat": 4,
  "vscode": {
   "interpreter": {
    "hash": "86576fc1f72bb8252e2f1578cc878ed2c12b40840637cdef083c8fb979cf67d3"
   }
  }
 },
 "nbformat": 4,
 "nbformat_minor": 2
}
