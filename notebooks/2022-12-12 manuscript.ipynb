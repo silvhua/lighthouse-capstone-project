{
 "cells": [
  {
   "cell_type": "markdown",
   "metadata": {},
   "source": [
    "# Title\n",
    "[]()"
   ]
  },
  {
   "cell_type": "code",
   "execution_count": 1,
   "metadata": {},
   "outputs": [],
   "source": [
    "import pandas as pd\n",
    "import sys\n",
    "sys.path.append(r\"C:\\Users\\silvh\\OneDrive\\lighthouse\\custom_python\")\n",
    "sys.path.append(r\"C:\\Users\\silvh\\OneDrive\\lighthouse\\projects\\lighthouse-capstone-project\\src\")\n",
    "from silvhua import *\n",
    "from run_stats import compare_means"
   ]
  },
  {
   "cell_type": "code",
   "execution_count": 5,
   "metadata": {},
   "outputs": [
    {
     "name": "stdout",
     "output_type": "stream",
     "text": [
      "Dataframe shape:  (52, 5)\n"
     ]
    }
   ],
   "source": [
    "fw_predictions4 = load_csv('04 iteration FW predictions.csv', column1_as_index=True,\n",
    "    filepath=r'C:\\Users\\silvh\\OneDrive\\lighthouse\\projects\\lighthouse-capstone-project\\output\\predictions')"
   ]
  },
  {
   "cell_type": "code",
   "execution_count": null,
   "metadata": {},
   "outputs": [],
   "source": [
    "models = ['Stat Ind MVT', 'Stat Grp MVT', 'OLS', 'Lasso']"
   ]
  },
  {
   "cell_type": "code",
   "execution_count": 7,
   "metadata": {},
   "outputs": [
    {
     "name": "stdout",
     "output_type": "stream",
     "text": [
      "File saved:  C:/Users/silvh/OneDrive/lighthouse/projects/lighthouse-capstone-project/output/model metrics/04 iteration predicted vs true effect sizes.csv\n"
     ]
    },
    {
     "data": {
      "text/html": [
       "<div>\n",
       "<style scoped>\n",
       "    .dataframe tbody tr th:only-of-type {\n",
       "        vertical-align: middle;\n",
       "    }\n",
       "\n",
       "    .dataframe tbody tr th {\n",
       "        vertical-align: top;\n",
       "    }\n",
       "\n",
       "    .dataframe thead th {\n",
       "        text-align: right;\n",
       "    }\n",
       "</style>\n",
       "<table border=\"1\" class=\"dataframe\">\n",
       "  <thead>\n",
       "    <tr style=\"text-align: right;\">\n",
       "      <th></th>\n",
       "      <th>Stat Ind MVT</th>\n",
       "      <th>Stat Grp MVT</th>\n",
       "      <th>OLS</th>\n",
       "      <th>Lasso</th>\n",
       "    </tr>\n",
       "  </thead>\n",
       "  <tbody>\n",
       "    <tr>\n",
       "      <th>t statistic</th>\n",
       "      <td>-4.918235</td>\n",
       "      <td>-5.025863</td>\n",
       "      <td>2.961254e-14</td>\n",
       "      <td>1.955013e-14</td>\n",
       "    </tr>\n",
       "    <tr>\n",
       "      <th>ttest pvalue</th>\n",
       "      <td>0.000009</td>\n",
       "      <td>0.000007</td>\n",
       "      <td>1.000000e+00</td>\n",
       "      <td>1.000000e+00</td>\n",
       "    </tr>\n",
       "    <tr>\n",
       "      <th>Cohens d</th>\n",
       "      <td>0.140000</td>\n",
       "      <td>0.140000</td>\n",
       "      <td>0.000000e+00</td>\n",
       "      <td>0.000000e+00</td>\n",
       "    </tr>\n",
       "  </tbody>\n",
       "</table>\n",
       "</div>"
      ],
      "text/plain": [
       "              Stat Ind MVT  Stat Grp MVT           OLS         Lasso\n",
       "t statistic      -4.918235     -5.025863  2.961254e-14  1.955013e-14\n",
       "ttest pvalue      0.000009      0.000007  1.000000e+00  1.000000e+00\n",
       "Cohens d          0.140000      0.140000  0.000000e+00  0.000000e+00"
      ]
     },
     "execution_count": 7,
     "metadata": {},
     "output_type": "execute_result"
    }
   ],
   "source": [
    "def batch_compare_means(predictions, target='Measured', filename=None,\n",
    "    path=r'C:\\Users\\silvh\\OneDrive\\lighthouse\\projects\\lighthouse-capstone-project\\output\\model metrics'):\n",
    "    \"\"\"\n",
    "    Perform paired t-tests and calculate Cohen's d effect sizes between the predicted and true values.\n",
    "\n",
    "    Parameters:\n",
    "        - predictions: DataFrame containing the predicted values and true values.\n",
    "        - target (str): Column name containing the target values.\n",
    "        - filename (str): Root of filename for saving results. If None, results are not automatically saved.\n",
    "        - path (raw string): Filepath for saving the csv file.\n",
    "    \"\"\"\n",
    "    models = predictions[predictions.columns[~predictions.columns.str.contains('Measured')]].columns.to_list()\n",
    "    statistics = pd.DataFrame()\n",
    "    for model in models:\n",
    "        statistics[model] = compare_means(predictions[target], predictions[model], type='paired')\n",
    "    if filename:\n",
    "        save_csv(statistics, filename, path)\n",
    "    return statistics\n",
    "\n",
    "batch_compare_means(fw_predictions4, filename='04 iteration predicted vs true effect sizes')\n"
   ]
  },
  {
   "cell_type": "code",
   "execution_count": 10,
   "metadata": {},
   "outputs": [
    {
     "name": "stdout",
     "output_type": "stream",
     "text": [
      "              Stat Ind MVT  Stat Grp MVT           OLS         Lasso\n",
      "t statistic      -4.918235     -5.025863  2.961254e-14  1.955013e-14\n",
      "ttest pvalue      0.000009      0.000007  1.000000e+00  1.000000e+00\n",
      "Cohens d          0.140000      0.140000  0.000000e+00  0.000000e+00\n"
     ]
    }
   ],
   "source": [
    "print(batch_compare_means(fw_predictions4))"
   ]
  },
  {
   "cell_type": "code",
   "execution_count": null,
   "metadata": {},
   "outputs": [],
   "source": []
  },
  {
   "cell_type": "code",
   "execution_count": null,
   "metadata": {},
   "outputs": [],
   "source": []
  },
  {
   "cell_type": "code",
   "execution_count": null,
   "metadata": {},
   "outputs": [],
   "source": []
  },
  {
   "cell_type": "code",
   "execution_count": null,
   "metadata": {},
   "outputs": [],
   "source": []
  },
  {
   "cell_type": "code",
   "execution_count": null,
   "metadata": {},
   "outputs": [],
   "source": []
  },
  {
   "cell_type": "code",
   "execution_count": null,
   "metadata": {},
   "outputs": [],
   "source": []
  },
  {
   "cell_type": "code",
   "execution_count": null,
   "metadata": {},
   "outputs": [],
   "source": []
  },
  {
   "cell_type": "code",
   "execution_count": null,
   "metadata": {},
   "outputs": [],
   "source": []
  },
  {
   "cell_type": "code",
   "execution_count": null,
   "metadata": {},
   "outputs": [],
   "source": []
  },
  {
   "cell_type": "code",
   "execution_count": null,
   "metadata": {},
   "outputs": [],
   "source": []
  },
  {
   "cell_type": "code",
   "execution_count": null,
   "metadata": {},
   "outputs": [],
   "source": []
  },
  {
   "cell_type": "code",
   "execution_count": null,
   "metadata": {},
   "outputs": [],
   "source": []
  },
  {
   "cell_type": "code",
   "execution_count": null,
   "metadata": {},
   "outputs": [],
   "source": []
  },
  {
   "cell_type": "code",
   "execution_count": null,
   "metadata": {},
   "outputs": [],
   "source": []
  },
  {
   "cell_type": "code",
   "execution_count": null,
   "metadata": {},
   "outputs": [],
   "source": []
  },
  {
   "cell_type": "code",
   "execution_count": null,
   "metadata": {},
   "outputs": [],
   "source": []
  },
  {
   "cell_type": "code",
   "execution_count": null,
   "metadata": {},
   "outputs": [],
   "source": []
  },
  {
   "cell_type": "code",
   "execution_count": null,
   "metadata": {},
   "outputs": [],
   "source": []
  },
  {
   "cell_type": "code",
   "execution_count": null,
   "metadata": {},
   "outputs": [],
   "source": []
  },
  {
   "cell_type": "markdown",
   "metadata": {},
   "source": [
    "# *End of Page*"
   ]
  }
 ],
 "metadata": {
  "kernelspec": {
   "display_name": "Python 3.9.13 ('cloudEnv')",
   "language": "python",
   "name": "python3"
  },
  "language_info": {
   "codemirror_mode": {
    "name": "ipython",
    "version": 3
   },
   "file_extension": ".py",
   "mimetype": "text/x-python",
   "name": "python",
   "nbconvert_exporter": "python",
   "pygments_lexer": "ipython3",
   "version": "3.9.13"
  },
  "orig_nbformat": 4,
  "vscode": {
   "interpreter": {
    "hash": "86576fc1f72bb8252e2f1578cc878ed2c12b40840637cdef083c8fb979cf67d3"
   }
  }
 },
 "nbformat": 4,
 "nbformat_minor": 2
}
